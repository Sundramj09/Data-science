{
 "cells": [
  {
   "cell_type": "raw",
   "id": "797dc226-c3e4-476c-97fa-9942f4632a2a",
   "metadata": {},
   "source": [
    "class relationship\n",
    "1.Aggregation -> has a relation\n",
    "2.Inheritance -> "
   ]
  },
  {
   "cell_type": "code",
   "execution_count": 1,
   "id": "c54a58af-7e0a-4e53-a6f5-c5787820b0dd",
   "metadata": {},
   "outputs": [
    {
     "name": "stdout",
     "output_type": "stream",
     "text": [
      "gurgaon 1234690 haryana\n"
     ]
    }
   ],
   "source": [
    "class customer:\n",
    "    def __init__(self,name,gender,address):\n",
    "        self.name = name\n",
    "        self.gender = gender\n",
    "        self.address = address\n",
    "    def print_address(self):\n",
    "        print(self.address.city,self.address.pin,self.address.state)\n",
    "class address:\n",
    "     def __init__(self,city,pin,state):\n",
    "        self.city = city\n",
    "        self.pin = pin\n",
    "        self.state = state\n",
    "add1=address(\"gurgaon\",1234690,\"haryana\")\n",
    "cust=customer(\"sundram\",\"male\",add1)\n",
    "cust.print_address()\n",
    "         \n",
    "    \n",
    "        "
   ]
  },
  {
   "cell_type": "code",
   "execution_count": null,
   "id": "3e641b53-25ad-4893-bec7-e64bdfc4f5f0",
   "metadata": {},
   "outputs": [],
   "source": []
  }
 ],
 "metadata": {
  "kernelspec": {
   "display_name": "Python 3 (ipykernel)",
   "language": "python",
   "name": "python3"
  },
  "language_info": {
   "codemirror_mode": {
    "name": "ipython",
    "version": 3
   },
   "file_extension": ".py",
   "mimetype": "text/x-python",
   "name": "python",
   "nbconvert_exporter": "python",
   "pygments_lexer": "ipython3",
   "version": "3.13.1"
  }
 },
 "nbformat": 4,
 "nbformat_minor": 5
}

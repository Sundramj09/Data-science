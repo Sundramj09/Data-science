{
 "cells": [
  {
   "cell_type": "code",
   "execution_count": null,
   "id": "4f3a2f8e-2819-450d-bcca-719846eb0bbd",
   "metadata": {},
   "outputs": [],
   "source": [
    "# nested loop\n",
    "#*\n",
    "#**\n",
    "#***\n",
    "#****\n",
    "#*****\n"
   ]
  },
  {
   "cell_type": "code",
   "execution_count": 1,
   "id": "8c2f29be-5bb3-458b-ba59-82c8b17a9f5b",
   "metadata": {},
   "outputs": [
    {
     "name": "stdin",
     "output_type": "stream",
     "text": [
      "enter the number of rows 10\n"
     ]
    },
    {
     "name": "stdout",
     "output_type": "stream",
     "text": [
      "*\n",
      "**\n",
      "***\n",
      "****\n",
      "*****\n",
      "******\n",
      "*******\n",
      "********\n",
      "*********\n",
      "**********\n"
     ]
    }
   ],
   "source": [
    "rows= int(input(\"enter the number of rows\"))\n",
    "for i in range(1,rows+1):\n",
    "    for j in range(0,i):\n",
    "        print(\"*\",end=\"\")\n",
    "    print(\"\")\n",
    "    "
   ]
  },
  {
   "cell_type": "code",
   "execution_count": null,
   "id": "e2f6a3a7-16b0-4f12-8c5d-0657b3e07aaa",
   "metadata": {},
   "outputs": [],
   "source": [
    "#"
   ]
  }
 ],
 "metadata": {
  "kernelspec": {
   "display_name": "Python 3 (ipykernel)",
   "language": "python",
   "name": "python3"
  },
  "language_info": {
   "codemirror_mode": {
    "name": "ipython",
    "version": 3
   },
   "file_extension": ".py",
   "mimetype": "text/x-python",
   "name": "python",
   "nbconvert_exporter": "python",
   "pygments_lexer": "ipython3",
   "version": "3.13.1"
  }
 },
 "nbformat": 4,
 "nbformat_minor": 5
}

{
 "cells": [
  {
   "cell_type": "code",
   "execution_count": 4,
   "id": "17f2c233-c8e3-42c4-8021-ed549e5ef0ff",
   "metadata": {},
   "outputs": [
    {
     "name": "stdin",
     "output_type": "stream",
     "text": [
      "enter the email ramjha619@gmail.com\n",
      "enter the password hel\n"
     ]
    },
    {
     "name": "stdout",
     "output_type": "stream",
     "text": [
      "not correct\n"
     ]
    }
   ],
   "source": [
    "#if-else\n",
    "email=input(\"enter the email\") \n",
    "password=input(\"enter the password\")\n",
    "if email == 'sundramjha619@gmail.com' and password == 'hello':\n",
    "    print('welcome')\n",
    "else:\n",
    "    print('not correct')\n",
    "    "
   ]
  },
  {
   "cell_type": "code",
   "execution_count": 7,
   "id": "afb0c3b4-d6c1-44f3-ba72-e1890faab031",
   "metadata": {},
   "outputs": [
    {
     "name": "stdin",
     "output_type": "stream",
     "text": [
      "enter the email sundramjha619@gmail.com\n",
      "enter the password hel\n"
     ]
    },
    {
     "name": "stdout",
     "output_type": "stream",
     "text": [
      "incorrect password\n"
     ]
    },
    {
     "name": "stdin",
     "output_type": "stream",
     "text": [
      "enter the password again hell\n"
     ]
    },
    {
     "name": "stdout",
     "output_type": "stream",
     "text": [
      "tu rehne de \n"
     ]
    }
   ],
   "source": [
    "#nested if-else\n",
    "email=input(\"enter the email\") \n",
    "password=input(\"enter the password\")\n",
    "if email == 'sundramjha619@gmail.com' and password == 'hello':\n",
    "    print('welcome')\n",
    "elif email == 'sundramjha619@gmail.com' and password != 'hello':\n",
    "    print('incorrect password')\n",
    "    password=input(\"enter the password again\")\n",
    "    if password == 'hello':\n",
    "        print('finally welcome')\n",
    "    else:\n",
    "        print('tu rehne de ')\n",
    "else:\n",
    "    print('not correct')\n",
    "    "
   ]
  },
  {
   "cell_type": "code",
   "execution_count": 11,
   "id": "e2a5d900-fab4-455a-8043-9dd59745e5e8",
   "metadata": {},
   "outputs": [
    {
     "name": "stdin",
     "output_type": "stream",
     "text": [
      "enter 1 the number 4\n",
      "enter 2 the number 21\n",
      "enter 3 the number 99\n"
     ]
    },
    {
     "name": "stdout",
     "output_type": "stream",
     "text": [
      "a is smallest 4\n"
     ]
    }
   ],
   "source": [
    "#min of 3 number\n",
    "a=int(input(\"enter 1 the number\"))\n",
    "b=int(input(\"enter 2 the number\"))\n",
    "c=int(input(\"enter 3 the number\"))\n",
    "if a<b and a<c:\n",
    "      print(\"a is smallest\",a)\n",
    "elif b<c:\n",
    "      print(\"b is smallest\",b)\n",
    "else:\n",
    "    print(\"b is smallest\",b)\n",
    "    \n",
    "  \n",
    "    \n",
    "\n",
    "      "
   ]
  },
  {
   "cell_type": "code",
   "execution_count": 12,
   "id": "5d9dfd41-70ce-4be0-965f-159d4ce009cf",
   "metadata": {},
   "outputs": [
    {
     "name": "stdin",
     "output_type": "stream",
     "text": [
      "enter 1st the number 34\n",
      "enter 2nd the number 56\n",
      "enter the operation  -\n"
     ]
    },
    {
     "name": "stdout",
     "output_type": "stream",
     "text": [
      "-22\n"
     ]
    }
   ],
   "source": [
    "#maths operation\n",
    "fnum=int(input(\"enter 1st the number\"))\n",
    "snum=int(input(\"enter 2nd the number\"))\n",
    "op= input('enter the operation ')\n",
    "if op=='+':\n",
    "    print(fnum+snum)\n",
    "elif op=='-':\n",
    "    print(fnum-snum)\n",
    "elif op=='*':\n",
    "    print(fnum*snum)\n",
    "else:\n",
    "    print(fnum/snum)\n",
    "\n",
    "\n",
    "\n",
    "\n"
   ]
  },
  {
   "cell_type": "code",
   "execution_count": 14,
   "id": "985ad7cb-4ebf-4ef0-8f78-ddb6d81816b6",
   "metadata": {},
   "outputs": [
    {
     "name": "stdout",
     "output_type": "stream",
     "text": [
      "['False', 'None', 'True', 'and', 'as', 'assert', 'async', 'await', 'break', 'class', 'continue', 'def', 'del', 'elif', 'else', 'except', 'finally', 'for', 'from', 'global', 'if', 'import', 'in', 'is', 'lambda', 'nonlocal', 'not', 'or', 'pass', 'raise', 'return', 'try', 'while', 'with', 'yield']\n"
     ]
    }
   ],
   "source": [
    "#modules \n",
    "import math\n",
    "math.factorial(5)\n",
    "import keyword\n",
    "print(keyword.kwlist)\n",
    "\n"
   ]
  },
  {
   "cell_type": "code",
   "execution_count": 15,
   "id": "7607f98c-15de-4fc3-85e4-ed40b29b809a",
   "metadata": {},
   "outputs": [
    {
     "name": "stdout",
     "output_type": "stream",
     "text": [
      "\n",
      "Please wait a moment while I gather a list of all available modules...\n",
      "\n",
      "test_sqlite3: testing with SQLite version 3.45.3\n",
      "IPython             asyncio             jupyterlab_server   stat\n",
      "__future__          atexit              jupyterlab_widgets  statistics\n",
      "__hello__           attr                keyword             string\n",
      "__phello__          attrs               linecache           stringprep\n",
      "_abc                autocommand         locale              struct\n",
      "_aix_support        babel               logging             subprocess\n",
      "_android_support    backports           lxml                symtable\n",
      "_argon2_cffi_bindings base64              lzma                sys\n",
      "_ast                bdb                 mailbox             sysconfig\n",
      "_asyncio            binascii            markupsafe          tabnanny\n",
      "_bisect             bisect              marshal             tarfile\n",
      "_blake2             bleach              math                tempfile\n",
      "_bz2                bs4                 matplotlib_inline   terminado\n",
      "_cffi_backend       builtins            mimetypes           test\n",
      "_codecs             bz2                 mistune             textwrap\n",
      "_codecs_cn          cProfile            mmap                this\n",
      "_codecs_hk          calendar            mmapfile            threading\n",
      "_codecs_iso2022     certifi             mmsystem            time\n",
      "_codecs_jp          cffi                modulefinder        timeit\n",
      "_codecs_kr          charset_normalizer  more_itertools      timer\n",
      "_codecs_tw          cmath               msvcrt              tinycss2\n",
      "_collections        cmd                 multiprocessing     tkinter\n",
      "_collections_abc    code                nbclient            token\n",
      "_colorize           codecs              nbconvert           tokenize\n",
      "_compat_pickle      codeop              nbformat            tomli\n",
      "_compression        collections         nest_asyncio        tomllib\n",
      "_contextvars        colorama            netbios             tornado\n",
      "_csv                colorsys            netrc               trace\n",
      "_ctypes             comm                notebook            traceback\n",
      "_ctypes_test        commctrl            notebook_shim       tracemalloc\n",
      "_datetime           compileall          nt                  traitlets\n",
      "_decimal            concurrent          ntpath              tty\n",
      "_distutils_hack     configparser        ntsecuritycon       turtle\n",
      "_elementtree        contextlib          nturl2path          turtledemo\n",
      "_functools          contextvars         numbers             typeguard\n",
      "_hashlib            copy                odbc                types\n",
      "_heapq              copyreg             opcode              typing\n",
      "_imp                csv                 operator            typing_extensions\n",
      "_interpchannels     ctypes              optparse            unicodedata\n",
      "_interpqueues       curses              os                  unittest\n",
      "_interpreters       dataclasses         overrides           uri_template\n",
      "_io                 datetime            packaging           urllib\n",
      "_ios_support        dateutil            pandocfilters       urllib3\n",
      "_json               dbm                 parso               uuid\n",
      "_locale             dde                 pathlib             venv\n",
      "_lsprof             debugpy             pdb                 warnings\n",
      "_lzma               decimal             perfmon             wave\n",
      "_markupbase         decorator           pickle              wcwidth\n",
      "_md5                defusedxml          pickletools         weakref\n",
      "_multibytecodec     difflib             pip                 webbrowser\n",
      "_multiprocessing    dis                 pkg_resources       webcolors\n",
      "_opcode             doctest             pkgutil             webencodings\n",
      "_opcode_metadata    email               platform            websocket\n",
      "_operator           encodings           platformdirs        wheel\n",
      "_osx_support        ensurepip           plistlib            widgetsnbextension\n",
      "_overlapped         enum                poplib              win2kras\n",
      "_pickle             errno               posixpath           win32api\n",
      "_py_abc             executing           pprint              win32clipboard\n",
      "_pydatetime         fastjsonschema      profile             win32com\n",
      "_pydecimal          faulthandler        prometheus_client   win32con\n",
      "_pyio               filecmp             prompt_toolkit      win32console\n",
      "_pylong             fileinput           pstats              win32cred\n",
      "_pyrepl             fnmatch             psutil              win32crypt\n",
      "_queue              fqdn                pty                 win32cryptcon\n",
      "_random             fractions           pure_eval           win32event\n",
      "_sha1               ftplib              py_compile          win32evtlog\n",
      "_sha2               functools           pyclbr              win32evtlogutil\n",
      "_sha3               gc                  pycparser           win32file\n",
      "_signal             genericpath         pydoc               win32gui\n",
      "_sitebuiltins       getopt              pydoc_data          win32gui_struct\n",
      "_socket             getpass             pyexpat             win32help\n",
      "_sqlite3            gettext             pygments            win32inet\n",
      "_sre                glob                pythoncom           win32inetcon\n",
      "_ssl                graphlib            pythonjsonlogger    win32job\n",
      "_stat               gzip                pywin               win32lz\n",
      "_statistics         h11                 pywin32_bootstrap   win32net\n",
      "_string             hashlib             pywin32_testutil    win32netcon\n",
      "_strptime           heapq               pywintypes          win32pdh\n",
      "_struct             hmac                queue               win32pdhquery\n",
      "_symtable           html                quopri              win32pdhutil\n",
      "_sysconfig          http                random              win32pipe\n",
      "_testbuffer         httpcore            rasutil             win32print\n",
      "_testcapi           httpx               re                  win32process\n",
      "_testclinic         idlelib             referencing         win32profile\n",
      "_testclinic_limited idna                regcheck            win32ras\n",
      "_testconsole        imaplib             regutil             win32rcparser\n",
      "_testimportmultiple importlib           reprlib             win32security\n",
      "_testinternalcapi   importlib_metadata  requests            win32service\n",
      "_testlimitedcapi    inflect             rfc3339_validator   win32serviceutil\n",
      "_testmultiphase     inspect             rfc3986_validator   win32timezone\n",
      "_testsinglephase    io                  rlcompleter         win32trace\n",
      "_thread             ipaddress           rpds                win32traceutil\n",
      "_threading_local    ipykernel           runpy               win32transaction\n",
      "_tkinter            ipykernel_launcher  sched               win32ts\n",
      "_tokenize           ipython_genutils    secrets             win32ui\n",
      "_tracemalloc        ipywidgets          select              win32uiole\n",
      "_typing             isapi               selectors           win32verstamp\n",
      "_uuid               isoduration         send2trash          win32wnet\n",
      "_warnings           itertools           servicemanager      winerror\n",
      "_weakref            jedi                setuptools          winioctlcon\n",
      "_weakrefset         jinja2              shelve              winnt\n",
      "_win32sysloader     json                shlex               winperf\n",
      "_win32verstamp_pywin32ctypes json5               shutil              winpty\n",
      "_winapi             jsonpointer         signal              winreg\n",
      "_winxptheme         jsonschema          site                winsound\n",
      "_wmi                jsonschema_specifications six                 winxpgui\n",
      "_yaml               jupyter             smtplib             winxptheme\n",
      "_zoneinfo           jupyter_client      sniffio             wsgiref\n",
      "abc                 jupyter_console     socket              xml\n",
      "adodbapi            jupyter_contrib_core socketserver        xmlrpc\n",
      "afxres              jupyter_contrib_nbextensions soupsieve           xxsubtype\n",
      "antigravity         jupyter_core        sqlite3             yaml\n",
      "anyio               jupyter_events      sre_compile         zipapp\n",
      "argon2              jupyter_highlight_selected_word sre_constants       zipfile\n",
      "argparse            jupyter_lsp         sre_parse           zipimport\n",
      "array               jupyter_nbextensions_configurator ssl                 zipp\n",
      "arrow               jupyter_server      sspi                zlib\n",
      "ast                 jupyter_server_terminals sspicon             zmq\n",
      "asttokens           jupyterlab          stack_data          zoneinfo\n",
      "async_lru           jupyterlab_pygments start_pythonwin     \n",
      "\n",
      "Enter any module name to get more help.  Or, type \"modules spam\" to search\n",
      "for modules whose name or summary contain the string \"spam\".\n",
      "\n"
     ]
    }
   ],
   "source": [
    "help('modules')"
   ]
  },
  {
   "cell_type": "code",
   "execution_count": 16,
   "id": "1a8b10ff-ab9d-4cf7-beba-3de3f013ab53",
   "metadata": {},
   "outputs": [
    {
     "name": "stdin",
     "output_type": "stream",
     "text": [
      "enter the number 4\n"
     ]
    },
    {
     "name": "stdout",
     "output_type": "stream",
     "text": [
      "4\n",
      "8\n",
      "12\n",
      "16\n",
      "20\n",
      "24\n",
      "28\n",
      "32\n",
      "36\n",
      "40\n"
     ]
    }
   ],
   "source": [
    "#loops\n",
    "number=int(input('enter the number'))\n",
    "i=1\n",
    "while i<11:\n",
    "    print(number *i)\n",
    "    i+=1\n",
    "           "
   ]
  },
  {
   "cell_type": "code",
   "execution_count": 18,
   "id": "24dad021-8b33-4131-bbbc-5596cc1ddc4b",
   "metadata": {},
   "outputs": [
    {
     "name": "stdout",
     "output_type": "stream",
     "text": [
      "1\n",
      "2\n",
      "limit crossed\n"
     ]
    }
   ],
   "source": [
    "#while loop with else\n",
    "x=1\n",
    "while x<3:\n",
    "    print(x)\n",
    "    x+=1\n",
    "else:\n",
    "    print('limit crossed')"
   ]
  },
  {
   "cell_type": "code",
   "execution_count": 19,
   "id": "fcd98fef-beca-4d11-9273-428e83073e46",
   "metadata": {},
   "outputs": [
    {
     "name": "stdin",
     "output_type": "stream",
     "text": [
      "guess karo 12\n"
     ]
    },
    {
     "name": "stdout",
     "output_type": "stream",
     "text": [
      "galat!guess higher\n"
     ]
    },
    {
     "name": "stdin",
     "output_type": "stream",
     "text": [
      "guess karo 15\n"
     ]
    },
    {
     "name": "stdout",
     "output_type": "stream",
     "text": [
      "galat!guess higher\n"
     ]
    },
    {
     "name": "stdin",
     "output_type": "stream",
     "text": [
      "guess karo 50\n"
     ]
    },
    {
     "name": "stdout",
     "output_type": "stream",
     "text": [
      "galat!guess higher\n"
     ]
    },
    {
     "name": "stdin",
     "output_type": "stream",
     "text": [
      "guess karo 45\n"
     ]
    },
    {
     "name": "stdout",
     "output_type": "stream",
     "text": [
      "galat!guess higher\n"
     ]
    },
    {
     "name": "stdin",
     "output_type": "stream",
     "text": [
      "guess karo 20\n"
     ]
    },
    {
     "name": "stdout",
     "output_type": "stream",
     "text": [
      "galat!guess higher\n"
     ]
    },
    {
     "name": "stdin",
     "output_type": "stream",
     "text": [
      "guess karo 56\n"
     ]
    },
    {
     "name": "stdout",
     "output_type": "stream",
     "text": [
      "galat!guess higher\n"
     ]
    },
    {
     "name": "stdin",
     "output_type": "stream",
     "text": [
      "guess karo 90\n"
     ]
    },
    {
     "name": "stdout",
     "output_type": "stream",
     "text": [
      "galat!guess higher\n"
     ]
    },
    {
     "name": "stdin",
     "output_type": "stream",
     "text": [
      "guess karo 100\n"
     ]
    },
    {
     "name": "stdout",
     "output_type": "stream",
     "text": [
      "galat!guess lower\n"
     ]
    },
    {
     "name": "stdin",
     "output_type": "stream",
     "text": [
      "guess karo 99\n"
     ]
    },
    {
     "name": "stdout",
     "output_type": "stream",
     "text": [
      "correct guess\n",
      "attempts 9\n"
     ]
    }
   ],
   "source": [
    "#guess the game\n",
    "import random\n",
    "jackpot=random.randint(1,100)\n",
    "guess=int(input(\"guess karo\"))\n",
    "count=1\n",
    "while guess!=jackpot:\n",
    "    if guess<jackpot:\n",
    "        print(\"galat!guess higher\")\n",
    "    else:\n",
    "        print(\"galat!guess lower\")\n",
    "    guess=int(input(\"guess karo\"))\n",
    "    count+=1\n",
    "else:\n",
    "    print('correct guess')\n",
    "    print('attempts',count)\n",
    "    \n",
    "    \n",
    "          \n",
    "\n"
   ]
  },
  {
   "cell_type": "code",
   "execution_count": 21,
   "id": "a9030bfd-0551-4743-9e98-f93c5b0a411a",
   "metadata": {},
   "outputs": [
    {
     "name": "stdout",
     "output_type": "stream",
     "text": [
      "1\n",
      "3\n",
      "5\n",
      "7\n",
      "9\n"
     ]
    }
   ],
   "source": [
    "#for loop\n",
    "for i in range(1,11,2):\n",
    "    print(i)"
   ]
  },
  {
   "cell_type": "code",
   "execution_count": null,
   "id": "97645c88-e0ac-474a-9a27-9e5801befef4",
   "metadata": {},
   "outputs": [],
   "source": []
  }
 ],
 "metadata": {
  "kernelspec": {
   "display_name": "Python 3 (ipykernel)",
   "language": "python",
   "name": "python3"
  },
  "language_info": {
   "codemirror_mode": {
    "name": "ipython",
    "version": 3
   },
   "file_extension": ".py",
   "mimetype": "text/x-python",
   "name": "python",
   "nbconvert_exporter": "python",
   "pygments_lexer": "ipython3",
   "version": "3.13.1"
  }
 },
 "nbformat": 4,
 "nbformat_minor": 5
}

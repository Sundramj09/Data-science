{
 "cells": [
  {
   "cell_type": "raw",
   "id": "2b212f06-fb22-4455-9d09-ec02e099a2d4",
   "metadata": {},
   "source": [
    "Write OOP classes to handle the following scenarios:\n",
    "A user can create and view 2D coordinates\n",
    "A user can find out the distance between 2 coordinates\n",
    "A user can find find the distance of a coordinate from origin\n",
    "A user can check if a point lies on a given line\n",
    "A user can find the distance between a given 2D point and a given line"
   ]
  },
  {
   "cell_type": "code",
   "execution_count": 1,
   "id": "4bce70df-25cb-49a8-bc62-13842f977042",
   "metadata": {},
   "outputs": [],
   "source": [
    "#encapsulation &static keyword\n",
    "class point:\n",
    "    def __init__(self,x,y):\n",
    "        self.x_cod=x\n",
    "        self.y_cod=y\n",
    "    def __str__(self):\n",
    "        return '<{},{}>'.format(self.x_cod,self.y_cod)\n",
    "    def euclidean_distance(self,other):\n",
    "        return ((self.x_cod-other.x_cod)**2 + (self.y_cod-other.y_cod)**2)**0.5\n",
    "    def distance_from_origin(self):\n",
    "        #return (self.x_cod**2 + self.y_cod**2)**0.5\n",
    "        return self.euclidean_distance(point(5,5))\n",
    "class Line:\n",
    "\n",
    "  def __init__(self,A,B,C):\n",
    "    self.A = A\n",
    "    self.B = B\n",
    "    self.C = C\n",
    "\n",
    "  def __str__(self):\n",
    "    return '{}x + {}y + {} = 0'.format(self.A,self.B,self.C)\n",
    "\n",
    "  def point_on_line(line,point):\n",
    "    if line.A*point.x_cod + line.B*point.y_cod + line.C == 0:\n",
    "      return \"lies on the line\"\n",
    "    else:\n",
    "      return \"does not lie on the line\"\n",
    "        \n",
    "        \n",
    "        \n",
    "    \n",
    "\n",
    "\n"
   ]
  },
  {
   "cell_type": "code",
   "execution_count": 2,
   "id": "46dfd377-c680-4032-ad8d-46bb0893e7e6",
   "metadata": {},
   "outputs": [
    {
     "name": "stdout",
     "output_type": "stream",
     "text": [
      "<0,0>\n",
      "<1,1>\n",
      "3x + 4y + 5 = 0\n"
     ]
    }
   ],
   "source": [
    "p1=point(0,0)\n",
    "p2=point(1,1)\n",
    "print(p1)\n",
    "print(p2)\n",
    "p1.euclidean_distance(p2)\n",
    "p1.distance_from_origin()\n",
    "l1=Line(3,4,5)\n",
    "print(l1)\n",
    "\n",
    "\n"
   ]
  },
  {
   "cell_type": "code",
   "execution_count": 3,
   "id": "7cac852a-4bcc-4327-8596-b767895913c7",
   "metadata": {},
   "outputs": [
    {
     "name": "stdout",
     "output_type": "stream",
     "text": [
      "3x + 4y + 5 = 0\n",
      "<1,1>\n"
     ]
    },
    {
     "data": {
      "text/plain": [
       "'does not lie on the line'"
      ]
     },
     "execution_count": 3,
     "metadata": {},
     "output_type": "execute_result"
    }
   ],
   "source": [
    "l1=Line(3,4,5)\n",
    "p1=point(1,1)\n",
    "print(l1)\n",
    "print(p1)\n",
    "l1.point_on_line(p1)"
   ]
  },
  {
   "cell_type": "raw",
   "id": "8ae80da7-04e9-4876-8eb7-23f0f153be56",
   "metadata": {},
   "source": [
    "How Object access attributes"
   ]
  },
  {
   "cell_type": "code",
   "execution_count": 4,
   "id": "d2799065-5628-4f1c-9dc2-4d3c41bf0345",
   "metadata": {},
   "outputs": [],
   "source": [
    "class person:\n",
    "    def __init__(self,name_input,country_input):\n",
    "        self.name=name_input\n",
    "        self.country=country_input\n",
    "    def greet(self):\n",
    "        if self.country == 'india':\n",
    "            print('Namaste',self.name)\n",
    "        else:\n",
    "            print('hello',self.name)\n",
    "        \n",
    "    "
   ]
  },
  {
   "cell_type": "code",
   "execution_count": 6,
   "id": "56fa7705-0952-4175-bdd4-561c6f274e5b",
   "metadata": {},
   "outputs": [
    {
     "data": {
      "text/plain": [
       "'nitish'"
      ]
     },
     "execution_count": 6,
     "metadata": {},
     "output_type": "execute_result"
    }
   ],
   "source": [
    "#how to access attributes \n",
    "p=person('nitish','india')\n",
    "p.name\n"
   ]
  },
  {
   "cell_type": "code",
   "execution_count": 7,
   "id": "9808e171-85f5-4dba-b6f9-ffd7e0232d0c",
   "metadata": {},
   "outputs": [
    {
     "ename": "AttributeError",
     "evalue": "'person' object has no attribute 'gender'",
     "output_type": "error",
     "traceback": [
      "\u001b[1;31m---------------------------------------------------------------------------\u001b[0m",
      "\u001b[1;31mAttributeError\u001b[0m                            Traceback (most recent call last)",
      "Cell \u001b[1;32mIn[7], line 2\u001b[0m\n\u001b[0;32m      1\u001b[0m \u001b[38;5;66;03m#what if i try to access non exisiting atributes\u001b[39;00m\n\u001b[1;32m----> 2\u001b[0m \u001b[43mp\u001b[49m\u001b[38;5;241;43m.\u001b[39;49m\u001b[43mgender\u001b[49m\n",
      "\u001b[1;31mAttributeError\u001b[0m: 'person' object has no attribute 'gender'"
     ]
    }
   ],
   "source": [
    "#what if i try to access non exisiting atributes\n",
    "p.gender"
   ]
  },
  {
   "cell_type": "code",
   "execution_count": 8,
   "id": "19c3f886-a629-47fe-a718-7cede8980d33",
   "metadata": {},
   "outputs": [
    {
     "data": {
      "text/plain": [
       "'male'"
      ]
     },
     "execution_count": 8,
     "metadata": {},
     "output_type": "execute_result"
    }
   ],
   "source": [
    "p.gender='male' #we can make attributes using object\n",
    "p.gender"
   ]
  },
  {
   "cell_type": "raw",
   "id": "c3ffe5b8-7310-4540-bbcd-3e136934824d",
   "metadata": {},
   "source": [
    "Reference Variables\n",
    "Reference variables hold the objects\n",
    "We can create objects without reference variable as well\n",
    "An object can have multiple reference variables\n",
    "Assigning a new reference variable to an existing object does not create a new object"
   ]
  },
  {
   "cell_type": "code",
   "execution_count": 18,
   "id": "1a40d853-703e-4ddf-b255-0de785dcc98f",
   "metadata": {},
   "outputs": [],
   "source": [
    "#object without a reference\n",
    "class Person:\n",
    "\n",
    "  def __init__(self):\n",
    "    self.name = 'nitish'\n",
    "    self.gender = 'male'\n",
    "\n",
    "p=Person() #p contain address of the object\n",
    "p=q\n",
    "\n"
   ]
  },
  {
   "cell_type": "code",
   "execution_count": 19,
   "id": "963a4a69-b513-45ae-b8b8-2d29c73b8d6c",
   "metadata": {},
   "outputs": [
    {
     "name": "stdout",
     "output_type": "stream",
     "text": [
      "2049302669568\n",
      "2049302669568\n"
     ]
    }
   ],
   "source": [
    "#multiple ref\n",
    "print(id(p))\n",
    "print(id(q))\n"
   ]
  },
  {
   "cell_type": "code",
   "execution_count": 20,
   "id": "5f656823-b5cf-49ca-84c7-9be7cdd79ea6",
   "metadata": {},
   "outputs": [
    {
     "name": "stdout",
     "output_type": "stream",
     "text": [
      "nitish\n",
      "nitish\n",
      "ankit\n",
      "ankit\n"
     ]
    }
   ],
   "source": [
    "print(p.name)   # change attribute value with the help of 2nd object\n",
    "print(q.name)\n",
    "q.name = 'ankit'\n",
    "print(q.name)\n",
    "print(p.name)"
   ]
  },
  {
   "cell_type": "raw",
   "id": "66e54e78-0fcd-4dcd-88a6-8385534e1440",
   "metadata": {},
   "source": [
    "Pass by refrence"
   ]
  },
  {
   "cell_type": "code",
   "execution_count": 32,
   "id": "177086c8-e359-419a-b938-2e9850a9cc06",
   "metadata": {},
   "outputs": [
    {
     "name": "stdout",
     "output_type": "stream",
     "text": [
      "2049310394752\n",
      "2049310394752\n",
      "ankit\n",
      "ankit\n"
     ]
    }
   ],
   "source": [
    "class Person:\n",
    "\n",
    "  def __init__(self,name,gender):\n",
    "    self.name = name\n",
    "    self.gender = gender\n",
    "#outside the class -> function\n",
    "def greet(person):\n",
    "  print(id(person))\n",
    "  person.name = 'ankit'\n",
    "  print(person.name)\n",
    "\n",
    "p = Person('nitish','male')\n",
    "print(id(p))\n",
    "greet(p)\n",
    "print(p.name)\n",
    "    \n",
    "    "
   ]
  },
  {
   "cell_type": "raw",
   "id": "90be4644-a2de-490d-963a-8889c234122e",
   "metadata": {},
   "source": [
    "Encapsulation -> "
   ]
  },
  {
   "cell_type": "code",
   "execution_count": 33,
   "id": "eaa8561a-23c6-44f6-9fe4-cfad776b33bc",
   "metadata": {},
   "outputs": [],
   "source": [
    "#instance var -> python tutor\n",
    "class person:\n",
    "    def __init__(self,name_input,country_input):\n",
    "        self.name=name_input\n",
    "        self.country=country_input\n",
    "\n",
    "p1=person('raj','india')\n",
    "p2=person('steve','japan')\n",
    "\n"
   ]
  },
  {
   "cell_type": "code",
   "execution_count": 34,
   "id": "6f54bd01-18ff-4686-8e85-0a98d66a8c77",
   "metadata": {},
   "outputs": [
    {
     "data": {
      "text/plain": [
       "'steve'"
      ]
     },
     "execution_count": 34,
     "metadata": {},
     "output_type": "execute_result"
    }
   ],
   "source": [
    "p2.name"
   ]
  },
  {
   "cell_type": "raw",
   "id": "008fe41e-3146-4c09-a6be-52e005f7ec62",
   "metadata": {},
   "source": [
    "use double underscore to make private\n",
    "we can access the private outside the class in python.\n",
    "Because python is for adult programmer.\n",
    "\n",
    "\n"
   ]
  },
  {
   "cell_type": "raw",
   "id": "bec374d0-71e2-4092-af23-25c9facb4bf3",
   "metadata": {},
   "source": [
    "Collection of objects"
   ]
  },
  {
   "cell_type": "code",
   "execution_count": 35,
   "id": "bfa8554f-072f-4a1e-92f6-62906f5c02e4",
   "metadata": {},
   "outputs": [
    {
     "name": "stdout",
     "output_type": "stream",
     "text": [
      "nitish male\n",
      "ankit male\n",
      "ankita female\n"
     ]
    }
   ],
   "source": [
    "# list of objects\n",
    "class Person:\n",
    "\n",
    "  def __init__(self,name,gender):\n",
    "    self.name = name\n",
    "    self.gender = gender\n",
    "\n",
    "p1 = Person('nitish','male')\n",
    "p2 = Person('ankit','male')\n",
    "p3 = Person('ankita','female')\n",
    "\n",
    "L = [p1,p2,p3]\n",
    "\n",
    "for i in L:\n",
    "  print(i.name,i.gender)"
   ]
  },
  {
   "cell_type": "raw",
   "id": "c3f75f4e-0d5c-4cd0-94c5-bff599b4b1a0",
   "metadata": {},
   "source": [
    "Static Variables(Vs Instance variables)"
   ]
  },
  {
   "cell_type": "code",
   "execution_count": null,
   "id": "0b467b7b-41ae-4741-b53b-bfc38daeeb06",
   "metadata": {},
   "outputs": [],
   "source": []
  }
 ],
 "metadata": {
  "kernelspec": {
   "display_name": "Python 3 (ipykernel)",
   "language": "python",
   "name": "python3"
  },
  "language_info": {
   "codemirror_mode": {
    "name": "ipython",
    "version": 3
   },
   "file_extension": ".py",
   "mimetype": "text/x-python",
   "name": "python",
   "nbconvert_exporter": "python",
   "pygments_lexer": "ipython3",
   "version": "3.13.1"
  }
 },
 "nbformat": 4,
 "nbformat_minor": 5
}

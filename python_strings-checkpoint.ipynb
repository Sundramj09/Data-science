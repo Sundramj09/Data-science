{
 "cells": [
  {
   "cell_type": "markdown",
   "id": "a65597e7-e55b-49e2-8dd0-16baac846e7c",
   "metadata": {},
   "source": [
    "python strings #immutable"
   ]
  },
  {
   "cell_type": "code",
   "execution_count": null,
   "id": "eebd764f-199c-4fc2-8ae0-b8c875ffd810",
   "metadata": {},
   "outputs": [],
   "source": [
    "#create strings\n",
    "s='hello'\n",
    "s=\"hello\"\n",
    "s='''hello'''#for multiline strings\n",
    "s=\"\"\"hello\"\"\"#same\n",
    "s=str('hello\")\n",
    "      \n"
   ]
  },
  {
   "cell_type": "code",
   "execution_count": 8,
   "id": "b8aefb47-fb3c-4a44-ad80-1d15ddbd8bb7",
   "metadata": {},
   "outputs": [
    {
     "name": "stdout",
     "output_type": "stream",
     "text": [
      "o\n",
      "l\n",
      "hel\n",
      "hello\n",
      "l\n",
      "llo world\n",
      "hlo\n",
      "wol\n",
      "dlrow olleh\n",
      "dlrow\n"
     ]
    }
   ],
   "source": [
    "#indexing\n",
    "s=\"hello world\"\n",
    "print(s[4])\n",
    "print(s[-2]) #negative indexing\n",
    "print(s[:3])\n",
    "print(s[0:5]) #slicing\n",
    "print(s[2:3])\n",
    "print(s[2:])\n",
    "print(s[0:6:2])\n",
    "print(s[6:0:-2])\n",
    "print(s[::-1]) #reverse\n",
    "print(s[-1:-6:-1]) #in negative take ! as always greater ex -1:-6, -1 is greater\n",
    "\n"
   ]
  },
  {
   "cell_type": "code",
   "execution_count": 13,
   "id": "b7bcdbee-3f76-432c-847c-b0034510a480",
   "metadata": {},
   "outputs": [],
   "source": [
    "#edit and delete\n",
    "s=\"hello world\"\n",
    "del s \n",
    "print(s) #error caause s is now delete\n",
    "del s[-1:-5:2]\n",
    "print(s) #error 'str' object does not support item deletion\n",
    "\n",
    "\n"
   ]
  },
  {
   "cell_type": "markdown",
   "id": "91b45808-b853-4c96-a39d-eca755bb78a4",
   "metadata": {},
   "source": [
    "opeartions on string\n",
    "1.Arithmetic Operations\n",
    "2.Relational Operations\n",
    "3.Logical Operations\n",
    "4.Loops on Strings\n",
    "5.Membership Operations\n"
   ]
  },
  {
   "cell_type": "code",
   "execution_count": 14,
   "id": "068bdbe5-385c-47ba-8737-c03dbea6e66b",
   "metadata": {},
   "outputs": [
    {
     "name": "stdout",
     "output_type": "stream",
     "text": [
      "delhi mumbai\n"
     ]
    }
   ],
   "source": [
    "print('delhi'+' '+'mumbai')"
   ]
  },
  {
   "cell_type": "code",
   "execution_count": 15,
   "id": "f194f4a5-3248-4bd9-b33c-9b7a9da43943",
   "metadata": {},
   "outputs": [
    {
     "name": "stdout",
     "output_type": "stream",
     "text": [
      "delhidelhidelhi\n"
     ]
    }
   ],
   "source": [
    "print('delhi'*3)"
   ]
  },
  {
   "cell_type": "code",
   "execution_count": 16,
   "id": "e61e639f-3fb0-4105-992e-0ee6efe6a4f0",
   "metadata": {},
   "outputs": [
    {
     "data": {
      "text/plain": [
       "False"
      ]
     },
     "execution_count": 16,
     "metadata": {},
     "output_type": "execute_result"
    }
   ],
   "source": [
    "'delhi'!='delhi'"
   ]
  },
  {
   "cell_type": "code",
   "execution_count": 17,
   "id": "afbf75e7-a487-4b0a-92fd-a6ef40d422e9",
   "metadata": {},
   "outputs": [
    {
     "data": {
      "text/plain": [
       "False"
      ]
     },
     "execution_count": 17,
     "metadata": {},
     "output_type": "execute_result"
    }
   ],
   "source": [
    "'mumbai'>'pune' #lexiographically"
   ]
  },
  {
   "cell_type": "code",
   "execution_count": 18,
   "id": "4589ecf6-cb2f-46ab-9230-aea2711b2b5d",
   "metadata": {},
   "outputs": [
    {
     "data": {
      "text/plain": [
       "False"
      ]
     },
     "execution_count": 18,
     "metadata": {},
     "output_type": "execute_result"
    }
   ],
   "source": [
    "'Pune'>'pune' "
   ]
  },
  {
   "cell_type": "code",
   "execution_count": 19,
   "id": "1d719f03-df1f-4c82-9fc1-5c7577ad9daf",
   "metadata": {},
   "outputs": [
    {
     "data": {
      "text/plain": [
       "'world'"
      ]
     },
     "execution_count": 19,
     "metadata": {},
     "output_type": "execute_result"
    }
   ],
   "source": [
    "'hello'and'world'"
   ]
  },
  {
   "cell_type": "code",
   "execution_count": 21,
   "id": "70c3e340-5ec6-4cb0-82b9-8cfb3ca1c35b",
   "metadata": {},
   "outputs": [
    {
     "data": {
      "text/plain": [
       "'hello'"
      ]
     },
     "execution_count": 21,
     "metadata": {},
     "output_type": "execute_result"
    }
   ],
   "source": [
    "'hello'or'world'"
   ]
  },
  {
   "cell_type": "code",
   "execution_count": 24,
   "id": "1aedb6ce-c94d-4f99-86a2-d3236ffdb5ee",
   "metadata": {},
   "outputs": [
    {
     "data": {
      "text/plain": [
       "False"
      ]
     },
     "execution_count": 24,
     "metadata": {},
     "output_type": "execute_result"
    }
   ],
   "source": [
    "not'hello'"
   ]
  },
  {
   "cell_type": "code",
   "execution_count": 25,
   "id": "bb3dfb40-1857-4cdd-8c77-64911a604449",
   "metadata": {},
   "outputs": [
    {
     "name": "stdout",
     "output_type": "stream",
     "text": [
      "pune\n",
      "pune\n",
      "pune\n",
      "pune\n",
      "pune\n"
     ]
    }
   ],
   "source": [
    "for i in 'delhi':\n",
    "    print('pune')"
   ]
  },
  {
   "cell_type": "code",
   "execution_count": 29,
   "id": "1ef16da9-39f7-46a3-b9ba-8155b6417201",
   "metadata": {},
   "outputs": [
    {
     "data": {
      "text/plain": [
       "False"
      ]
     },
     "execution_count": 29,
     "metadata": {},
     "output_type": "execute_result"
    }
   ],
   "source": [
    "'D' in 'delhi'"
   ]
  },
  {
   "cell_type": "markdown",
   "id": "170cac9d-15bd-4d38-af01-b77e1cb5f9c1",
   "metadata": {},
   "source": [
    "string functions\n",
    "len\n",
    "max\n",
    "min\n",
    "sorted"
   ]
  },
  {
   "cell_type": "code",
   "execution_count": 34,
   "id": "df072032-e057-4de9-80b2-af487a6a5c12",
   "metadata": {},
   "outputs": [
    {
     "data": {
      "text/plain": [
       "11"
      ]
     },
     "execution_count": 34,
     "metadata": {},
     "output_type": "execute_result"
    }
   ],
   "source": [
    "len(\"hello world\")\n",
    "\n",
    "\n"
   ]
  },
  {
   "cell_type": "code",
   "execution_count": 32,
   "id": "2e96d21a-7828-4e88-ac94-4a81e6a60ee7",
   "metadata": {},
   "outputs": [
    {
     "data": {
      "text/plain": [
       "' '"
      ]
     },
     "execution_count": 32,
     "metadata": {},
     "output_type": "execute_result"
    }
   ],
   "source": [
    "min(\"hello world\")"
   ]
  },
  {
   "cell_type": "code",
   "execution_count": 33,
   "id": "33d4611f-6823-496d-8fbd-655fbe6578d3",
   "metadata": {},
   "outputs": [
    {
     "data": {
      "text/plain": [
       "'w'"
      ]
     },
     "execution_count": 33,
     "metadata": {},
     "output_type": "execute_result"
    }
   ],
   "source": [
    "max(\"hello world\")"
   ]
  },
  {
   "cell_type": "code",
   "execution_count": 35,
   "id": "c1fae53f-42e2-418d-b9d6-c63cf6b7c1ce",
   "metadata": {},
   "outputs": [
    {
     "data": {
      "text/plain": [
       "[' ', 'd', 'e', 'h', 'l', 'l', 'l', 'o', 'o', 'r', 'w']"
      ]
     },
     "execution_count": 35,
     "metadata": {},
     "output_type": "execute_result"
    }
   ],
   "source": [
    "sorted(\"hello world\")"
   ]
  },
  {
   "cell_type": "code",
   "execution_count": 37,
   "id": "9c4bcbb4-ef80-4872-bbd2-3b54e422f0e1",
   "metadata": {},
   "outputs": [
    {
     "data": {
      "text/plain": [
       "['w', 'r', 'o', 'o', 'l', 'l', 'l', 'h', 'e', 'd', ' ']"
      ]
     },
     "execution_count": 37,
     "metadata": {},
     "output_type": "execute_result"
    }
   ],
   "source": [
    "sorted(\"hello world\",reverse=True)"
   ]
  },
  {
   "cell_type": "markdown",
   "id": "13060d69-ea4f-4bb4-a87b-df54621589b7",
   "metadata": {},
   "source": [
    "function = capitialize/title/upper/lower/swapcase\n"
   ]
  },
  {
   "cell_type": "code",
   "execution_count": 38,
   "id": "50e79e0e-d3d0-42f9-b396-525adf15a5e1",
   "metadata": {},
   "outputs": [
    {
     "name": "stdout",
     "output_type": "stream",
     "text": [
      "Hello world\n",
      "hello world\n"
     ]
    }
   ],
   "source": [
    "s = 'hello world'\n",
    "print(s.capitalize())\n",
    "print(s)"
   ]
  },
  {
   "cell_type": "code",
   "execution_count": 39,
   "id": "06584315-919a-4ac2-b389-e63ae17d759d",
   "metadata": {},
   "outputs": [
    {
     "data": {
      "text/plain": [
       "'Hello World'"
      ]
     },
     "execution_count": 39,
     "metadata": {},
     "output_type": "execute_result"
    }
   ],
   "source": [
    "s.title()\n"
   ]
  },
  {
   "cell_type": "code",
   "execution_count": 40,
   "id": "7a9de34b-0acc-412c-9b32-8be7e6a55171",
   "metadata": {},
   "outputs": [
    {
     "data": {
      "text/plain": [
       "'HELLO WORLD'"
      ]
     },
     "execution_count": 40,
     "metadata": {},
     "output_type": "execute_result"
    }
   ],
   "source": [
    "s.upper()"
   ]
  },
  {
   "cell_type": "code",
   "execution_count": 41,
   "id": "3b9e8012-9577-4e7e-9cb4-361437643a4b",
   "metadata": {},
   "outputs": [
    {
     "data": {
      "text/plain": [
       "'hello wolrd'"
      ]
     },
     "execution_count": 41,
     "metadata": {},
     "output_type": "execute_result"
    }
   ],
   "source": [
    "'Hello Wolrd'.lower()"
   ]
  },
  {
   "cell_type": "code",
   "execution_count": 42,
   "id": "cd211059-7b74-4adf-8a96-e25e46b79019",
   "metadata": {},
   "outputs": [
    {
     "data": {
      "text/plain": [
       "'hElLo wORld'"
      ]
     },
     "execution_count": 42,
     "metadata": {},
     "output_type": "execute_result"
    }
   ],
   "source": [
    "'HeLlO WorLD'.swapcase()"
   ]
  },
  {
   "cell_type": "markdown",
   "id": "9257b975-a497-4992-a347-d612f27bfc43",
   "metadata": {},
   "source": [
    "count/find/index"
   ]
  },
  {
   "cell_type": "code",
   "execution_count": 43,
   "id": "ea8b762e-ca3a-4aeb-9e71-d0357952f209",
   "metadata": {},
   "outputs": [
    {
     "data": {
      "text/plain": [
       "1"
      ]
     },
     "execution_count": 43,
     "metadata": {},
     "output_type": "execute_result"
    }
   ],
   "source": [
    "'my name is sundram'.count('i')"
   ]
  },
  {
   "cell_type": "code",
   "execution_count": 44,
   "id": "65d5968f-b0f9-4888-bb6e-a16c3b58a48b",
   "metadata": {},
   "outputs": [
    {
     "data": {
      "text/plain": [
       "-1"
      ]
     },
     "execution_count": 44,
     "metadata": {},
     "output_type": "execute_result"
    }
   ],
   "source": [
    "'my name is sundram'.find('x')"
   ]
  },
  {
   "cell_type": "code",
   "execution_count": 45,
   "id": "50570fdd-315c-4438-abd8-79ce55e1ec12",
   "metadata": {},
   "outputs": [
    {
     "ename": "ValueError",
     "evalue": "substring not found",
     "output_type": "error",
     "traceback": [
      "\u001b[1;31m---------------------------------------------------------------------------\u001b[0m",
      "\u001b[1;31mValueError\u001b[0m                                Traceback (most recent call last)",
      "Cell \u001b[1;32mIn[45], line 1\u001b[0m\n\u001b[1;32m----> 1\u001b[0m \u001b[38;5;124;43m'\u001b[39;49m\u001b[38;5;124;43mmy name is nitish\u001b[39;49m\u001b[38;5;124;43m'\u001b[39;49m\u001b[38;5;241;43m.\u001b[39;49m\u001b[43mindex\u001b[49m\u001b[43m(\u001b[49m\u001b[38;5;124;43m'\u001b[39;49m\u001b[38;5;124;43mx\u001b[39;49m\u001b[38;5;124;43m'\u001b[39;49m\u001b[43m)\u001b[49m\n",
      "\u001b[1;31mValueError\u001b[0m: substring not found"
     ]
    }
   ],
   "source": [
    "'my name is raj'.index('x')"
   ]
  },
  {
   "cell_type": "code",
   "execution_count": null,
   "id": "9986b41d-e57e-445c-9328-473ed86ca176",
   "metadata": {},
   "outputs": [],
   "source": [
    "endswith/startswith"
   ]
  },
  {
   "cell_type": "code",
   "execution_count": 46,
   "id": "1dabbbcb-f237-42be-ba8f-9311dfc47a53",
   "metadata": {},
   "outputs": [
    {
     "data": {
      "text/plain": [
       "False"
      ]
     },
     "execution_count": 46,
     "metadata": {},
     "output_type": "execute_result"
    }
   ],
   "source": [
    "'my name is nitish'.endswith('sho')"
   ]
  },
  {
   "cell_type": "code",
   "execution_count": 47,
   "id": "0be37ba9-17b5-4438-bdf0-57a92644cd04",
   "metadata": {},
   "outputs": [
    {
     "data": {
      "text/plain": [
       "False"
      ]
     },
     "execution_count": 47,
     "metadata": {},
     "output_type": "execute_result"
    }
   ],
   "source": [
    "'my name is nitish'.startswith('1my')"
   ]
  },
  {
   "cell_type": "markdown",
   "id": "80d580cd-f8ac-496a-89a9-8a82a51abc50",
   "metadata": {},
   "source": [
    "format "
   ]
  },
  {
   "cell_type": "code",
   "execution_count": 48,
   "id": "8694af10-3556-446d-82e9-76c27e7c9e93",
   "metadata": {},
   "outputs": [
    {
     "data": {
      "text/plain": [
       "'Hi my name is nitish and I am a male'"
      ]
     },
     "execution_count": 48,
     "metadata": {},
     "output_type": "execute_result"
    }
   ],
   "source": [
    "name = 'nitish'\n",
    "gender = 'male'\n",
    "\n",
    "'Hi my name is {1} and I am a {0}'.format(gender,name)"
   ]
  },
  {
   "cell_type": "code",
   "execution_count": null,
   "id": "fdf96e46-f553-423c-acad-b84381f9dd81",
   "metadata": {},
   "outputs": [],
   "source": []
  }
 ],
 "metadata": {
  "kernelspec": {
   "display_name": "Python 3 (ipykernel)",
   "language": "python",
   "name": "python3"
  },
  "language_info": {
   "codemirror_mode": {
    "name": "ipython",
    "version": 3
   },
   "file_extension": ".py",
   "mimetype": "text/x-python",
   "name": "python",
   "nbconvert_exporter": "python",
   "pygments_lexer": "ipython3",
   "version": "3.13.1"
  }
 },
 "nbformat": 4,
 "nbformat_minor": 5
}
